{
 "cells": [
  {
   "cell_type": "code",
   "execution_count": 1,
   "metadata": {},
   "outputs": [],
   "source": [
    "import numpy as np \n",
    "from sklearn.model_selection import train_test_split\n",
    "import os\n",
    "import tensorflow as tf\n",
    "from tensorflow.keras import layers, models,callbacks\n",
    "from sklearn.metrics import confusion_matrix, ConfusionMatrixDisplay\n",
    "import matplotlib.pyplot as plt"
   ]
  },
  {
   "cell_type": "code",
   "execution_count": 3,
   "metadata": {},
   "outputs": [
    {
     "name": "stdout",
     "output_type": "stream",
     "text": [
      "(256, 256)\n"
     ]
    }
   ],
   "source": [
    "# 載入3D關鍵點資料\n",
    "X = np.load(\"../X22point_picture.npy\")\n",
    "y = np.load(\"../y3t.npy\")\n",
    "print(X[0].shape)\n",
    "input_shape = X[0].shape\n",
    "# 將資料分為訓練集和測試集\n",
    "X_train, X_test, y_train, y_test = train_test_split(X, y, test_size=0.2, stratify=y, random_state=0)"
   ]
  },
  {
   "cell_type": "code",
   "execution_count": 4,
   "metadata": {},
   "outputs": [
    {
     "name": "stdout",
     "output_type": "stream",
     "text": [
      "[1 1 0 2 0 0 1 0 1 1 1 0 0 0 1 0 1 1 2 0 1 0 1 0 1 1 1 2 2 2 0 1 0 1 1 1 0\n",
      " 1 0 2 2 1 0 1 1 0 2 0 1 0 0 1 1 0 2 0 1 0 1 0 1 2 2 1 0 2 0 2 1 1 0 1 1 0\n",
      " 0 1 2 1 0 1 0 1 1 1 1 1 1 0 0 0 0 1 2 0 2 1 1 1 2 0 2 0 1 2 1 0 1 1 2 2 2\n",
      " 1 0 0 2 2 0 1 0 0 0 0 0 1 1 0 0 2 2 2 1 2 0 0 0 0 1 0 2 0 1 2 1 1 0 0 0 0\n",
      " 1 1 0 0]\n"
     ]
    }
   ],
   "source": [
    "print(y_train)"
   ]
  },
  {
   "cell_type": "code",
   "execution_count": 5,
   "metadata": {},
   "outputs": [
    {
     "name": "stderr",
     "output_type": "stream",
     "text": [
      "c:\\Users\\user\\anaconda3\\envs\\dance\\lib\\site-packages\\keras\\src\\layers\\convolutional\\base_conv.py:107: UserWarning: Do not pass an `input_shape`/`input_dim` argument to a layer. When using Sequential models, prefer using an `Input(shape)` object as the first layer in the model instead.\n",
      "  super().__init__(activity_regularizer=activity_regularizer, **kwargs)\n"
     ]
    }
   ],
   "source": [
    "def VGG16(input_shape=(256, 256, 1), num_classes=10):\n",
    "    model = models.Sequential()\n",
    "    \n",
    "    # Block 1\n",
    "    model.add(layers.Conv2D(16, (3, 3), activation='relu', padding='same', input_shape=input_shape))\n",
    "    model.add(layers.Conv2D(16, (3, 3), activation='relu', padding='same'))\n",
    "    model.add(layers.MaxPooling2D((2, 2), strides=(2, 2)))\n",
    "    \n",
    "    # Block 2\n",
    "    model.add(layers.Conv2D(32, (3, 3), activation='relu', padding='same'))\n",
    "    model.add(layers.Conv2D(32, (3, 3), activation='relu', padding='same'))\n",
    "    model.add(layers.MaxPooling2D((2, 2), strides=(2, 2)))\n",
    "    \n",
    "    # Block 3\n",
    "    model.add(layers.Conv2D(64, (3, 3), activation='relu', padding='same'))\n",
    "    model.add(layers.Conv2D(64, (3, 3), activation='relu', padding='same'))\n",
    "    model.add(layers.Conv2D(64, (3, 3), activation='relu', padding='same'))\n",
    "    model.add(layers.MaxPooling2D((2, 2), strides=(2, 2)))\n",
    "    \n",
    "    # Block 4\n",
    "    model.add(layers.Conv2D(128, (3, 3), activation='relu', padding='same'))\n",
    "    model.add(layers.Conv2D(128, (3, 3), activation='relu', padding='same'))\n",
    "    model.add(layers.Conv2D(128, (3, 3), activation='relu', padding='same'))\n",
    "    model.add(layers.MaxPooling2D((2, 2), strides=(2, 2)))\n",
    "    \n",
    "    # Block 5\n",
    "    model.add(layers.Conv2D(128, (3, 3), activation='relu', padding='same'))\n",
    "    model.add(layers.Conv2D(128, (3, 3), activation='relu', padding='same'))\n",
    "    model.add(layers.Conv2D(128, (3, 3), activation='relu', padding='same'))\n",
    "    model.add(layers.MaxPooling2D((2, 2), strides=(2, 2)))\n",
    "    \n",
    "    # Fully connected layers\n",
    "    model.add(layers.Flatten())\n",
    "    model.add(layers.Dense(512, activation='relu'))\n",
    "    model.add(layers.Dense(512, activation='relu'))\n",
    "    model.add(layers.Dense(num_classes, activation='softmax'))\n",
    "    \n",
    "    return model\n",
    "\n",
    "# 建立VGG16模型\n",
    "input_shape = (256, 256, 1)\n",
    "num_classes = 3\n",
    "model = VGG16(input_shape=input_shape, num_classes=num_classes)\n"
   ]
  },
  {
   "cell_type": "code",
   "execution_count": 6,
   "metadata": {},
   "outputs": [
    {
     "name": "stdout",
     "output_type": "stream",
     "text": [
      "Epoch 1/50\n",
      "\u001b[1m4/4\u001b[0m \u001b[32m━━━━━━━━━━━━━━━━━━━━\u001b[0m\u001b[37m\u001b[0m \u001b[1m7s\u001b[0m 973ms/step - accuracy: 0.3714 - loss: 1.7885 - val_accuracy: 0.2903 - val_loss: 1.1112\n",
      "Epoch 2/50\n",
      "\u001b[1m4/4\u001b[0m \u001b[32m━━━━━━━━━━━━━━━━━━━━\u001b[0m\u001b[37m\u001b[0m \u001b[1m4s\u001b[0m 931ms/step - accuracy: 0.4240 - loss: 1.0796 - val_accuracy: 0.2903 - val_loss: 1.1476\n",
      "Epoch 3/50\n",
      "\u001b[1m4/4\u001b[0m \u001b[32m━━━━━━━━━━━━━━━━━━━━\u001b[0m\u001b[37m\u001b[0m \u001b[1m3s\u001b[0m 848ms/step - accuracy: 0.4563 - loss: 1.0140 - val_accuracy: 0.5806 - val_loss: 0.9530\n",
      "Epoch 4/50\n",
      "\u001b[1m4/4\u001b[0m \u001b[32m━━━━━━━━━━━━━━━━━━━━\u001b[0m\u001b[37m\u001b[0m \u001b[1m3s\u001b[0m 877ms/step - accuracy: 0.6092 - loss: 0.8376 - val_accuracy: 0.5806 - val_loss: 0.8136\n",
      "Epoch 5/50\n",
      "\u001b[1m4/4\u001b[0m \u001b[32m━━━━━━━━━━━━━━━━━━━━\u001b[0m\u001b[37m\u001b[0m \u001b[1m4s\u001b[0m 931ms/step - accuracy: 0.7927 - loss: 0.5360 - val_accuracy: 0.7419 - val_loss: 0.6220\n",
      "Epoch 6/50\n",
      "\u001b[1m4/4\u001b[0m \u001b[32m━━━━━━━━━━━━━━━━━━━━\u001b[0m\u001b[37m\u001b[0m \u001b[1m4s\u001b[0m 972ms/step - accuracy: 0.8410 - loss: 0.4554 - val_accuracy: 0.8387 - val_loss: 0.3981\n",
      "Epoch 7/50\n",
      "\u001b[1m4/4\u001b[0m \u001b[32m━━━━━━━━━━━━━━━━━━━━\u001b[0m\u001b[37m\u001b[0m \u001b[1m4s\u001b[0m 1s/step - accuracy: 0.9425 - loss: 0.1732 - val_accuracy: 0.8065 - val_loss: 0.4262\n",
      "Epoch 8/50\n",
      "\u001b[1m4/4\u001b[0m \u001b[32m━━━━━━━━━━━━━━━━━━━━\u001b[0m\u001b[37m\u001b[0m \u001b[1m4s\u001b[0m 875ms/step - accuracy: 0.9572 - loss: 0.1072 - val_accuracy: 0.9032 - val_loss: 0.2659\n",
      "Epoch 9/50\n",
      "\u001b[1m4/4\u001b[0m \u001b[32m━━━━━━━━━━━━━━━━━━━━\u001b[0m\u001b[37m\u001b[0m \u001b[1m4s\u001b[0m 983ms/step - accuracy: 0.9852 - loss: 0.0533 - val_accuracy: 0.8710 - val_loss: 0.5900\n",
      "Epoch 10/50\n",
      "\u001b[1m4/4\u001b[0m \u001b[32m━━━━━━━━━━━━━━━━━━━━\u001b[0m\u001b[37m\u001b[0m \u001b[1m4s\u001b[0m 933ms/step - accuracy: 0.9433 - loss: 0.1996 - val_accuracy: 0.9355 - val_loss: 0.3170\n",
      "Epoch 11/50\n",
      "\u001b[1m4/4\u001b[0m \u001b[32m━━━━━━━━━━━━━━━━━━━━\u001b[0m\u001b[37m\u001b[0m \u001b[1m4s\u001b[0m 975ms/step - accuracy: 0.9550 - loss: 0.1240 - val_accuracy: 0.8065 - val_loss: 0.4254\n",
      "Epoch 12/50\n",
      "\u001b[1m4/4\u001b[0m \u001b[32m━━━━━━━━━━━━━━━━━━━━\u001b[0m\u001b[37m\u001b[0m \u001b[1m4s\u001b[0m 927ms/step - accuracy: 1.0000 - loss: 0.1175 - val_accuracy: 0.9355 - val_loss: 0.1301\n",
      "Epoch 13/50\n",
      "\u001b[1m4/4\u001b[0m \u001b[32m━━━━━━━━━━━━━━━━━━━━\u001b[0m\u001b[37m\u001b[0m \u001b[1m4s\u001b[0m 905ms/step - accuracy: 1.0000 - loss: 0.0188 - val_accuracy: 0.9677 - val_loss: 0.0577\n",
      "Epoch 14/50\n",
      "\u001b[1m4/4\u001b[0m \u001b[32m━━━━━━━━━━━━━━━━━━━━\u001b[0m\u001b[37m\u001b[0m \u001b[1m4s\u001b[0m 970ms/step - accuracy: 1.0000 - loss: 2.4819e-07 - val_accuracy: 0.9677 - val_loss: 0.4146\n",
      "Epoch 15/50\n",
      "\u001b[1m4/4\u001b[0m \u001b[32m━━━━━━━━━━━━━━━━━━━━\u001b[0m\u001b[37m\u001b[0m \u001b[1m3s\u001b[0m 855ms/step - accuracy: 1.0000 - loss: 2.2054e-05 - val_accuracy: 0.9355 - val_loss: 1.6413\n",
      "Epoch 16/50\n",
      "\u001b[1m4/4\u001b[0m \u001b[32m━━━━━━━━━━━━━━━━━━━━\u001b[0m\u001b[37m\u001b[0m \u001b[1m3s\u001b[0m 803ms/step - accuracy: 1.0000 - loss: 1.0642e-05 - val_accuracy: 0.9355 - val_loss: 2.5022\n",
      "Epoch 17/50\n",
      "\u001b[1m4/4\u001b[0m \u001b[32m━━━━━━━━━━━━━━━━━━━━\u001b[0m\u001b[37m\u001b[0m \u001b[1m3s\u001b[0m 880ms/step - accuracy: 1.0000 - loss: 5.7172e-09 - val_accuracy: 0.9355 - val_loss: 3.2512\n",
      "Epoch 18/50\n",
      "\u001b[1m4/4\u001b[0m \u001b[32m━━━━━━━━━━━━━━━━━━━━\u001b[0m\u001b[37m\u001b[0m \u001b[1m3s\u001b[0m 791ms/step - accuracy: 1.0000 - loss: 2.2880e-08 - val_accuracy: 0.9355 - val_loss: 3.8774\n"
     ]
    }
   ],
   "source": [
    "model.compile(optimizer='adam',\n",
    "              loss='sparse_categorical_crossentropy',\n",
    "              metrics=['accuracy'])\n",
    "early_stopping = callbacks.EarlyStopping(monitor='val_loss', patience=5, restore_best_weights=True)\n",
    "# 訓練模型\n",
    "history = model.fit(X_train, y_train, epochs=50, \n",
    "                    validation_split=0.2, verbose=1, callbacks=[early_stopping])"
   ]
  },
  {
   "cell_type": "code",
   "execution_count": 7,
   "metadata": {},
   "outputs": [
    {
     "name": "stdout",
     "output_type": "stream",
     "text": [
      "\u001b[1m2/2\u001b[0m \u001b[32m━━━━━━━━━━━━━━━━━━━━\u001b[0m\u001b[37m\u001b[0m \u001b[1m0s\u001b[0m 59ms/step - accuracy: 0.9441 - loss: 1.1337\n",
      "\n",
      "Test accuracy: 0.9473684430122375\n",
      "\u001b[1m2/2\u001b[0m \u001b[32m━━━━━━━━━━━━━━━━━━━━\u001b[0m\u001b[37m\u001b[0m \u001b[1m1s\u001b[0m 172ms/step\n"
     ]
    },
    {
     "data": {
      "image/png": "[encoded data removed]",
      "text/plain": [
       "<Figure size 640x480 with 2 Axes>"
      ]
     },
     "metadata": {},
     "output_type": "display_data"
    }
   ],
   "source": [
    "# 評估模型\n",
    "test_loss, test_acc = model.evaluate(X_test, y_test, verbose=1)\n",
    "print(f'\\nTest accuracy: {test_acc}')\n",
    "\n",
    "# 生成預測結果\n",
    "y_pred = model.predict(X_test)\n",
    "y_pred_classes = np.argmax(y_pred, axis=1)\n",
    "\n",
    "# 計算混淆矩陣\n",
    "cm = confusion_matrix(y_test, y_pred_classes)\n",
    "\n",
    "# 顯示混淆矩陣\n",
    "disp = ConfusionMatrixDisplay(confusion_matrix=cm)\n",
    "disp.plot(cmap=plt.cm.Blues)\n",
    "plt.show()"
   ]
  },
  {
   "cell_type": "code",
   "execution_count": 8,
   "metadata": {},
   "outputs": [],
   "source": [
    "model.save(\"cnn_test2.keras\")"
   ]
  },
  {
   "cell_type": "code",
   "execution_count": 9,
   "metadata": {},
   "outputs": [],
   "source": [
    "model = tf.keras.models.load_model(\"cnn_test2.keras\")"
   ]
  },
  {
   "cell_type": "code",
   "execution_count": 13,
   "metadata": {},
   "outputs": [
    {
     "name": "stdout",
     "output_type": "stream",
     "text": [
      "(38, 256, 256)\n"
     ]
    }
   ],
   "source": [
    "print(X_test.shape)"
   ]
  },
  {
   "cell_type": "code",
   "execution_count": 2,
   "metadata": {},
   "outputs": [
    {
     "name": "stderr",
     "output_type": "stream",
     "text": [
      "c:\\Users\\user\\anaconda3\\envs\\dance\\lib\\site-packages\\keras\\src\\saving\\saving_lib.py:719: UserWarning: Skipping variable loading for optimizer 'rmsprop', because it has 34 variables whereas the saved optimizer has 66 variables. \n",
      "  saveable.load_own_variables(weights_store.get(inner_path))\n"
     ]
    },
    {
     "name": "stdout",
     "output_type": "stream",
     "text": [
      "INFO:tensorflow:Assets written to: C:\\Users\\user\\AppData\\Local\\Temp\\tmp_9_mjoen\\assets\n"
     ]
    },
    {
     "name": "stderr",
     "output_type": "stream",
     "text": [
      "INFO:tensorflow:Assets written to: C:\\Users\\user\\AppData\\Local\\Temp\\tmp_9_mjoen\\assets\n"
     ]
    },
    {
     "name": "stdout",
     "output_type": "stream",
     "text": [
      "Saved artifact at 'C:\\Users\\user\\AppData\\Local\\Temp\\tmp_9_mjoen'. The following endpoints are available:\n",
      "\n",
      "* Endpoint 'serve'\n",
      "  args_0 (POSITIONAL_ONLY): TensorSpec(shape=(None, 256, 256, 1), dtype=tf.float32, name='input_layer')\n",
      "Output Type:\n",
      "  TensorSpec(shape=(None, 5), dtype=tf.float32, name=None)\n",
      "Captures:\n",
      "  1713394037328: TensorSpec(shape=(), dtype=tf.resource, name=None)\n",
      "  1713394036976: TensorSpec(shape=(), dtype=tf.resource, name=None)\n",
      "  1713394153776: TensorSpec(shape=(), dtype=tf.resource, name=None)\n",
      "  1713394153600: TensorSpec(shape=(), dtype=tf.resource, name=None)\n",
      "  1713394205968: TensorSpec(shape=(), dtype=tf.resource, name=None)\n",
      "  1713394205616: TensorSpec(shape=(), dtype=tf.resource, name=None)\n",
      "  1713394212704: TensorSpec(shape=(), dtype=tf.resource, name=None)\n",
      "  1713394212528: TensorSpec(shape=(), dtype=tf.resource, name=None)\n",
      "  1713394300704: TensorSpec(shape=(), dtype=tf.resource, name=None)\n",
      "  1713394300352: TensorSpec(shape=(), dtype=tf.resource, name=None)\n",
      "  1713394327392: TensorSpec(shape=(), dtype=tf.resource, name=None)\n",
      "  1713394368928: TensorSpec(shape=(), dtype=tf.resource, name=None)\n",
      "  1713394399888: TensorSpec(shape=(), dtype=tf.resource, name=None)\n",
      "  1713394399360: TensorSpec(shape=(), dtype=tf.resource, name=None)\n",
      "  1713394505680: TensorSpec(shape=(), dtype=tf.resource, name=None)\n",
      "  1713394505152: TensorSpec(shape=(), dtype=tf.resource, name=None)\n",
      "  1713394560688: TensorSpec(shape=(), dtype=tf.resource, name=None)\n",
      "  1713394606320: TensorSpec(shape=(), dtype=tf.resource, name=None)\n",
      "  1713396788032: TensorSpec(shape=(), dtype=tf.resource, name=None)\n",
      "  1713396787504: TensorSpec(shape=(), dtype=tf.resource, name=None)\n",
      "  1713396903600: TensorSpec(shape=(), dtype=tf.resource, name=None)\n",
      "  1713396949232: TensorSpec(shape=(), dtype=tf.resource, name=None)\n",
      "  1713396969136: TensorSpec(shape=(), dtype=tf.resource, name=None)\n",
      "  1713396968960: TensorSpec(shape=(), dtype=tf.resource, name=None)\n",
      "  1713401308784: TensorSpec(shape=(), dtype=tf.resource, name=None)\n",
      "  1713401308256: TensorSpec(shape=(), dtype=tf.resource, name=None)\n",
      "  1713394609312: TensorSpec(shape=(), dtype=tf.resource, name=None)\n",
      "  1713394479344: TensorSpec(shape=(), dtype=tf.resource, name=None)\n",
      "  1713393326736: TensorSpec(shape=(), dtype=tf.resource, name=None)\n",
      "  1713393325856: TensorSpec(shape=(), dtype=tf.resource, name=None)\n",
      "  1713401516800: TensorSpec(shape=(), dtype=tf.resource, name=None)\n",
      "  1713401516448: TensorSpec(shape=(), dtype=tf.resource, name=None)\n"
     ]
    }
   ],
   "source": [
    "import tensorflow as tf\n",
    "\n",
    "# 加载模型并转换为 TFLite 格式\n",
    "model = tf.keras.models.load_model('./cnn_test.keras')\n",
    "converter = tf.lite.TFLiteConverter.from_keras_model(model)\n",
    "tflite_model = converter.convert()\n",
    "\n",
    "# 保存模型\n",
    "with open('cnnmodel.tflite', 'wb') as f:\n",
    "    f.write(tflite_model)\n"
   ]
  }
 ],
 "metadata": {
  "kernelspec": {
   "display_name": "dance",
   "language": "python",
   "name": "python3"
  },
  "language_info": {
   "codemirror_mode": {
    "name": "ipython",
    "version": 3
   },
   "file_extension": ".py",
   "mimetype": "text/x-python",
   "name": "python",
   "nbconvert_exporter": "python",
   "pygments_lexer": "ipython3",
   "version": "3.9.20"
  }
 },
 "nbformat": 4,
 "nbformat_minor": 2
}
